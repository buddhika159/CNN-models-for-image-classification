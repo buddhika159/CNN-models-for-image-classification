{
 "cells": [
  {
   "cell_type": "markdown",
   "id": "a4a2ec58",
   "metadata": {},
   "source": [
    "### Data Preparation and Processing"
   ]
  },
  {
   "cell_type": "code",
   "execution_count": 1,
   "id": "44df0d99",
   "metadata": {},
   "outputs": [],
   "source": [
    "import numpy as np\n",
    "from random import randint\n",
    "from sklearn.utils import shuffle\n",
    "from sklearn.preprocessing import MinMaxScaler"
   ]
  },
  {
   "cell_type": "code",
   "execution_count": 2,
   "id": "ee8d470a",
   "metadata": {},
   "outputs": [],
   "source": [
    "train_labels = []\n",
    "train_samples = []"
   ]
  },
  {
   "cell_type": "markdown",
   "id": "a3436f6a",
   "metadata": {},
   "source": [
    "Generate a data set as follows:\n",
    " - An experimental drug was tested on individuals from ages 13 to 100 in a clinical trial.\n",
    " - The trial had 2100 participants. Half were under 65 years old, half were 65 years or older.\n",
    " - Around 95% of patients 65 or older experienced side effects.\n",
    " - Around 95% of patients under 65 experienced no side effects."
   ]
  },
  {
   "cell_type": "code",
   "execution_count": 3,
   "id": "1689a0a1",
   "metadata": {},
   "outputs": [],
   "source": [
    "for i in range(50):\n",
    "    # The ~5% of younger individuals who did experience side effects\n",
    "    random_younger = randint(13,64)\n",
    "    train_samples.append(random_younger)\n",
    "    train_labels.append(1)\n",
    "    \n",
    "    # The ~5% of older individuals who did not experience side effects\n",
    "    random_older = randint(65,100)\n",
    "    train_samples.append(random_older)\n",
    "    train_labels.append(0)\n",
    "    \n",
    "for i in range(1000):\n",
    "    # The ~95% of younger individuals who did not experience side effects\n",
    "    random_younger = randint(13,64)\n",
    "    train_samples.append(random_younger)\n",
    "    train_labels.append(0)\n",
    "    \n",
    "    # The ~5% of older individuals who did experience side effects\n",
    "    random_older = randint(65,100)\n",
    "    train_samples.append(random_older)\n",
    "    train_labels.append(1)"
   ]
  },
  {
   "cell_type": "markdown",
   "id": "72b4c9ee",
   "metadata": {},
   "source": [
    "### Processing the data\n",
    " - These list data needs to pass to the `fit` function as `np.array`s.\n",
    " - Shuffle the data to remove any imposed order from the data generation.\n",
    " - Normalize or Standardize to make the training process to become quicker."
   ]
  },
  {
   "cell_type": "code",
   "execution_count": 4,
   "id": "8ded4b49",
   "metadata": {},
   "outputs": [],
   "source": [
    "train_labels = np.array(train_labels)\n",
    "train_samples = np.array(train_samples)\n",
    "train_labels, train_samples = shuffle(train_labels, train_samples)"
   ]
  },
  {
   "cell_type": "code",
   "execution_count": 5,
   "id": "8ffd8bef",
   "metadata": {},
   "outputs": [],
   "source": [
    "scaler = MinMaxScaler(feature_range = (0,1))\n",
    "scaled_train_samples = scaler.fit_transform(train_samples.reshape(-1,1))"
   ]
  },
  {
   "cell_type": "markdown",
   "id": "be33ee89",
   "metadata": {},
   "source": [
    "### Simple tf.keras Sequential Model"
   ]
  },
  {
   "cell_type": "code",
   "execution_count": 12,
   "id": "3977f663",
   "metadata": {},
   "outputs": [],
   "source": [
    "import tensorflow as tf\n",
    "from tensorflow import keras\n",
    "from tensorflow.keras.models import Sequential\n",
    "from tensorflow.keras.layers import Activation, Dense\n",
    "from tensorflow.keras.optimizers import Adam\n",
    "from tensorflow.keras.metrics import categorical_crossentropy"
   ]
  },
  {
   "cell_type": "code",
   "execution_count": 13,
   "id": "68d8511d",
   "metadata": {},
   "outputs": [],
   "source": [
    "# If you are runing on a GPU run the following\n",
    "# physical_devices = tf.config.experimental.list_physical_devices('GPU')\n",
    "# print(\"Num GPUs Available: \", len(physical_devices))\n",
    "# ft.config.experimental.set_memory_growth(physical_devices[0], True)"
   ]
  },
  {
   "cell_type": "markdown",
   "id": "33d4f333",
   "metadata": {},
   "source": [
    "The simplest model you can build with keras tensorflow is a `Sequential model`.\n",
    " - 1st hidden layer has 16 Neurons and is identified with `input_shape = (1,)`\n",
    " - 2nd hidden layer has 32 Neurons\n",
    " - Out layer has two outputs giving probabilities with the `softmax` activation"
   ]
  },
  {
   "cell_type": "code",
   "execution_count": 15,
   "id": "05477bf3",
   "metadata": {},
   "outputs": [],
   "source": [
    "model = Sequential([\n",
    "            Dense(units=16, input_shape = (1,), activation = 'relu'),\n",
    "            Dense(units=32, activation = 'relu'),\n",
    "            Dense(units=2, activation = 'softmax'),])"
   ]
  },
  {
   "cell_type": "code",
   "execution_count": 16,
   "id": "ffedaea4",
   "metadata": {},
   "outputs": [
    {
     "name": "stdout",
     "output_type": "stream",
     "text": [
      "Model: \"sequential\"\n",
      "_________________________________________________________________\n",
      " Layer (type)                Output Shape              Param #   \n",
      "=================================================================\n",
      " dense (Dense)               (None, 16)                32        \n",
      "                                                                 \n",
      " dense_1 (Dense)             (None, 32)                544       \n",
      "                                                                 \n",
      " dense_2 (Dense)             (None, 2)                 66        \n",
      "                                                                 \n",
      "=================================================================\n",
      "Total params: 642\n",
      "Trainable params: 642\n",
      "Non-trainable params: 0\n",
      "_________________________________________________________________\n"
     ]
    }
   ],
   "source": [
    "model.summary()"
   ]
  },
  {
   "cell_type": "code",
   "execution_count": 17,
   "id": "8b357201",
   "metadata": {},
   "outputs": [],
   "source": [
    "model.compile(optimizer = Adam(learning_rate = 0.0001),\n",
    "              loss = 'sparse_categorical_crossentropy',\n",
    "              metrics = ['accuracy'])"
   ]
  },
  {
   "cell_type": "markdown",
   "id": "5f053354",
   "metadata": {},
   "source": [
    "Now the model is ready to learn.\n",
    " - `x` - Input data\n",
    " - `y` - Target data\n",
    " - `validation_split` - Creats a validation set\".\n",
    " - `batch_size` - How many samples are inclued in one batch to be passed and processed at one time.\n",
    " - `epochs` - How many times will the model train on the full dataset before completing the training process.\n",
    " - `shuffle` - `True` by defult. (with validation_split assign this to be `True`).\n",
    " - `verbose` - How much detail you need to see in the outputs 0-2."
   ]
  },
  {
   "cell_type": "code",
   "execution_count": 19,
   "id": "bcfba360",
   "metadata": {
    "scrolled": true
   },
   "outputs": [
    {
     "name": "stdout",
     "output_type": "stream",
     "text": [
      "Epoch 1/30\n",
      "210/210 - 1s - loss: 0.7042 - accuracy: 0.3986 - 674ms/epoch - 3ms/step\n",
      "Epoch 2/30\n",
      "210/210 - 0s - loss: 0.6728 - accuracy: 0.5943 - 211ms/epoch - 1ms/step\n",
      "Epoch 3/30\n",
      "210/210 - 0s - loss: 0.6428 - accuracy: 0.6452 - 254ms/epoch - 1ms/step\n",
      "Epoch 4/30\n",
      "210/210 - 0s - loss: 0.6169 - accuracy: 0.6719 - 276ms/epoch - 1ms/step\n",
      "Epoch 5/30\n",
      "210/210 - 0s - loss: 0.5927 - accuracy: 0.7043 - 265ms/epoch - 1ms/step\n",
      "Epoch 6/30\n",
      "210/210 - 0s - loss: 0.5638 - accuracy: 0.7419 - 314ms/epoch - 1ms/step\n",
      "Epoch 7/30\n",
      "210/210 - 0s - loss: 0.5312 - accuracy: 0.7914 - 248ms/epoch - 1ms/step\n",
      "Epoch 8/30\n",
      "210/210 - 0s - loss: 0.5011 - accuracy: 0.8138 - 272ms/epoch - 1ms/step\n",
      "Epoch 9/30\n",
      "210/210 - 0s - loss: 0.4723 - accuracy: 0.8362 - 242ms/epoch - 1ms/step\n",
      "Epoch 10/30\n",
      "210/210 - 0s - loss: 0.4451 - accuracy: 0.8581 - 215ms/epoch - 1ms/step\n",
      "Epoch 11/30\n",
      "210/210 - 0s - loss: 0.4202 - accuracy: 0.8662 - 226ms/epoch - 1ms/step\n",
      "Epoch 12/30\n",
      "210/210 - 0s - loss: 0.3974 - accuracy: 0.8814 - 255ms/epoch - 1ms/step\n",
      "Epoch 13/30\n",
      "210/210 - 0s - loss: 0.3773 - accuracy: 0.8938 - 227ms/epoch - 1ms/step\n",
      "Epoch 14/30\n",
      "210/210 - 0s - loss: 0.3598 - accuracy: 0.8995 - 218ms/epoch - 1ms/step\n",
      "Epoch 15/30\n",
      "210/210 - 0s - loss: 0.3446 - accuracy: 0.9033 - 246ms/epoch - 1ms/step\n",
      "Epoch 16/30\n",
      "210/210 - 0s - loss: 0.3314 - accuracy: 0.9110 - 203ms/epoch - 967us/step\n",
      "Epoch 17/30\n",
      "210/210 - 0s - loss: 0.3199 - accuracy: 0.9124 - 202ms/epoch - 962us/step\n",
      "Epoch 18/30\n",
      "210/210 - 0s - loss: 0.3103 - accuracy: 0.9190 - 255ms/epoch - 1ms/step\n",
      "Epoch 19/30\n",
      "210/210 - 0s - loss: 0.3021 - accuracy: 0.9181 - 202ms/epoch - 962us/step\n",
      "Epoch 20/30\n",
      "210/210 - 0s - loss: 0.2949 - accuracy: 0.9219 - 205ms/epoch - 976us/step\n",
      "Epoch 21/30\n",
      "210/210 - 0s - loss: 0.2888 - accuracy: 0.9262 - 250ms/epoch - 1ms/step\n",
      "Epoch 22/30\n",
      "210/210 - 0s - loss: 0.2835 - accuracy: 0.9281 - 204ms/epoch - 972us/step\n",
      "Epoch 23/30\n",
      "210/210 - 0s - loss: 0.2790 - accuracy: 0.9286 - 205ms/epoch - 976us/step\n",
      "Epoch 24/30\n",
      "210/210 - 0s - loss: 0.2751 - accuracy: 0.9286 - 228ms/epoch - 1ms/step\n",
      "Epoch 25/30\n",
      "210/210 - 0s - loss: 0.2717 - accuracy: 0.9329 - 226ms/epoch - 1ms/step\n",
      "Epoch 26/30\n",
      "210/210 - 0s - loss: 0.2688 - accuracy: 0.9329 - 208ms/epoch - 991us/step\n",
      "Epoch 27/30\n",
      "210/210 - 0s - loss: 0.2662 - accuracy: 0.9362 - 219ms/epoch - 1ms/step\n",
      "Epoch 28/30\n",
      "210/210 - 0s - loss: 0.2638 - accuracy: 0.9362 - 202ms/epoch - 962us/step\n",
      "Epoch 29/30\n",
      "210/210 - 0s - loss: 0.2618 - accuracy: 0.9362 - 248ms/epoch - 1ms/step\n",
      "Epoch 30/30\n",
      "210/210 - 0s - loss: 0.2599 - accuracy: 0.9362 - 207ms/epoch - 986us/step\n"
     ]
    },
    {
     "data": {
      "text/plain": [
       "<keras.callbacks.History at 0x239c7ba19a0>"
      ]
     },
     "execution_count": 19,
     "metadata": {},
     "output_type": "execute_result"
    }
   ],
   "source": [
    "model.fit(x = scaled_train_samples,\n",
    "          y = train_labels,\n",
    "          batch_size = 10, \n",
    "          epochs = 30,\n",
    "          shuffle = True,\n",
    "          verbose = 2)"
   ]
  },
  {
   "cell_type": "code",
   "execution_count": 21,
   "id": "dfc70bf3",
   "metadata": {
    "scrolled": true
   },
   "outputs": [
    {
     "name": "stdout",
     "output_type": "stream",
     "text": [
      "Epoch 1/30\n",
      "189/189 - 0s - loss: 0.2583 - accuracy: 0.9344 - val_loss: 0.2593 - val_accuracy: 0.9524 - 424ms/epoch - 2ms/step\n",
      "Epoch 2/30\n",
      "189/189 - 0s - loss: 0.2572 - accuracy: 0.9360 - val_loss: 0.2581 - val_accuracy: 0.9524 - 235ms/epoch - 1ms/step\n",
      "Epoch 3/30\n",
      "189/189 - 0s - loss: 0.2559 - accuracy: 0.9386 - val_loss: 0.2571 - val_accuracy: 0.9524 - 239ms/epoch - 1ms/step\n",
      "Epoch 4/30\n",
      "189/189 - 0s - loss: 0.2546 - accuracy: 0.9344 - val_loss: 0.2562 - val_accuracy: 0.9524 - 273ms/epoch - 1ms/step\n",
      "Epoch 5/30\n",
      "189/189 - 0s - loss: 0.2537 - accuracy: 0.9344 - val_loss: 0.2552 - val_accuracy: 0.9524 - 267ms/epoch - 1ms/step\n",
      "Epoch 6/30\n",
      "189/189 - 0s - loss: 0.2527 - accuracy: 0.9349 - val_loss: 0.2545 - val_accuracy: 0.9524 - 250ms/epoch - 1ms/step\n",
      "Epoch 7/30\n",
      "189/189 - 0s - loss: 0.2518 - accuracy: 0.9344 - val_loss: 0.2537 - val_accuracy: 0.9524 - 247ms/epoch - 1ms/step\n",
      "Epoch 8/30\n",
      "189/189 - 0s - loss: 0.2512 - accuracy: 0.9392 - val_loss: 0.2531 - val_accuracy: 0.9524 - 234ms/epoch - 1ms/step\n",
      "Epoch 9/30\n",
      "189/189 - 0s - loss: 0.2503 - accuracy: 0.9418 - val_loss: 0.2519 - val_accuracy: 0.9524 - 257ms/epoch - 1ms/step\n",
      "Epoch 10/30\n",
      "189/189 - 0s - loss: 0.2497 - accuracy: 0.9376 - val_loss: 0.2513 - val_accuracy: 0.9524 - 242ms/epoch - 1ms/step\n",
      "Epoch 11/30\n",
      "189/189 - 0s - loss: 0.2491 - accuracy: 0.9386 - val_loss: 0.2506 - val_accuracy: 0.9524 - 242ms/epoch - 1ms/step\n",
      "Epoch 12/30\n",
      "189/189 - 0s - loss: 0.2484 - accuracy: 0.9376 - val_loss: 0.2506 - val_accuracy: 0.9524 - 240ms/epoch - 1ms/step\n",
      "Epoch 13/30\n",
      "189/189 - 0s - loss: 0.2479 - accuracy: 0.9434 - val_loss: 0.2496 - val_accuracy: 0.9524 - 226ms/epoch - 1ms/step\n",
      "Epoch 14/30\n",
      "189/189 - 0s - loss: 0.2474 - accuracy: 0.9397 - val_loss: 0.2494 - val_accuracy: 0.9524 - 238ms/epoch - 1ms/step\n",
      "Epoch 15/30\n",
      "189/189 - 0s - loss: 0.2469 - accuracy: 0.9423 - val_loss: 0.2485 - val_accuracy: 0.9524 - 230ms/epoch - 1ms/step\n",
      "Epoch 16/30\n",
      "189/189 - 0s - loss: 0.2465 - accuracy: 0.9429 - val_loss: 0.2481 - val_accuracy: 0.9524 - 238ms/epoch - 1ms/step\n",
      "Epoch 17/30\n",
      "189/189 - 0s - loss: 0.2461 - accuracy: 0.9423 - val_loss: 0.2474 - val_accuracy: 0.9524 - 233ms/epoch - 1ms/step\n",
      "Epoch 18/30\n",
      "189/189 - 0s - loss: 0.2457 - accuracy: 0.9386 - val_loss: 0.2473 - val_accuracy: 0.9524 - 243ms/epoch - 1ms/step\n",
      "Epoch 19/30\n",
      "189/189 - 0s - loss: 0.2453 - accuracy: 0.9434 - val_loss: 0.2470 - val_accuracy: 0.9524 - 238ms/epoch - 1ms/step\n",
      "Epoch 20/30\n",
      "189/189 - 0s - loss: 0.2449 - accuracy: 0.9423 - val_loss: 0.2465 - val_accuracy: 0.9524 - 238ms/epoch - 1ms/step\n",
      "Epoch 21/30\n",
      "189/189 - 0s - loss: 0.2447 - accuracy: 0.9439 - val_loss: 0.2461 - val_accuracy: 0.9524 - 239ms/epoch - 1ms/step\n",
      "Epoch 22/30\n",
      "189/189 - 0s - loss: 0.2444 - accuracy: 0.9423 - val_loss: 0.2457 - val_accuracy: 0.9524 - 241ms/epoch - 1ms/step\n",
      "Epoch 23/30\n",
      "189/189 - 0s - loss: 0.2441 - accuracy: 0.9429 - val_loss: 0.2455 - val_accuracy: 0.9524 - 248ms/epoch - 1ms/step\n",
      "Epoch 24/30\n",
      "189/189 - 0s - loss: 0.2438 - accuracy: 0.9434 - val_loss: 0.2450 - val_accuracy: 0.9524 - 238ms/epoch - 1ms/step\n",
      "Epoch 25/30\n",
      "189/189 - 0s - loss: 0.2435 - accuracy: 0.9439 - val_loss: 0.2448 - val_accuracy: 0.9524 - 233ms/epoch - 1ms/step\n",
      "Epoch 26/30\n",
      "189/189 - 0s - loss: 0.2432 - accuracy: 0.9439 - val_loss: 0.2443 - val_accuracy: 0.9524 - 301ms/epoch - 2ms/step\n",
      "Epoch 27/30\n",
      "189/189 - 0s - loss: 0.2429 - accuracy: 0.9434 - val_loss: 0.2442 - val_accuracy: 0.9524 - 265ms/epoch - 1ms/step\n",
      "Epoch 28/30\n",
      "189/189 - 0s - loss: 0.2427 - accuracy: 0.9439 - val_loss: 0.2436 - val_accuracy: 0.9524 - 256ms/epoch - 1ms/step\n",
      "Epoch 29/30\n",
      "189/189 - 0s - loss: 0.2427 - accuracy: 0.9429 - val_loss: 0.2433 - val_accuracy: 0.9524 - 239ms/epoch - 1ms/step\n",
      "Epoch 30/30\n",
      "189/189 - 0s - loss: 0.2425 - accuracy: 0.9423 - val_loss: 0.2433 - val_accuracy: 0.9524 - 238ms/epoch - 1ms/step\n"
     ]
    },
    {
     "data": {
      "text/plain": [
       "<keras.callbacks.History at 0x239c8f5a4c0>"
      ]
     },
     "execution_count": 21,
     "metadata": {},
     "output_type": "execute_result"
    }
   ],
   "source": [
    "model.fit(x = scaled_train_samples,\n",
    "          y = train_labels,\n",
    "          validation_split = 0.1,\n",
    "          batch_size = 10, \n",
    "          epochs = 30,\n",
    "          shuffle = True,\n",
    "          verbose = 2)"
   ]
  },
  {
   "cell_type": "markdown",
   "id": "52b78768",
   "metadata": {},
   "source": [
    "### Preprocess Test Data"
   ]
  },
  {
   "cell_type": "code",
   "execution_count": 22,
   "id": "8c039cf9",
   "metadata": {},
   "outputs": [],
   "source": [
    "test_labels = []\n",
    "test_samples = []"
   ]
  },
  {
   "cell_type": "code",
   "execution_count": 23,
   "id": "6ad6928f",
   "metadata": {},
   "outputs": [],
   "source": [
    "for i in range(10):\n",
    "    # The ~5% of younger individuals who did experience side effects\n",
    "    random_younger = randint(13,64)\n",
    "    test_samples.append(random_younger)\n",
    "    test_labels.append(1)\n",
    "    \n",
    "    # The ~5% of older individuals who did not experience side effects\n",
    "    random_older = randint(65,100)\n",
    "    test_samples.append(random_older)\n",
    "    test_labels.append(0)\n",
    "    \n",
    "for i in range(200):\n",
    "    # The ~95% of younger individuals who did not experience side effects\n",
    "    random_younger = randint(13,64)\n",
    "    test_samples.append(random_younger)\n",
    "    test_labels.append(0)\n",
    "    \n",
    "    # The ~5% of older individuals who did experience side effects\n",
    "    random_older = randint(65,100)\n",
    "    test_samples.append(random_older)\n",
    "    test_labels.append(1)"
   ]
  },
  {
   "cell_type": "code",
   "execution_count": 24,
   "id": "3f6ddcf2",
   "metadata": {},
   "outputs": [],
   "source": [
    "test_labels = np.array(test_labels)\n",
    "test_samples = np.array(test_samples)\n",
    "test_labels, test_samples = shuffle(test_labels, test_samples)"
   ]
  },
  {
   "cell_type": "code",
   "execution_count": 25,
   "id": "0d3f9913",
   "metadata": {},
   "outputs": [],
   "source": [
    "scaled_test_samples = scaler.fit_transform(test_samples.reshape(-1,1))"
   ]
  },
  {
   "cell_type": "markdown",
   "id": "1a0bd0a2",
   "metadata": {},
   "source": [
    "### Predict"
   ]
  },
  {
   "cell_type": "code",
   "execution_count": 26,
   "id": "d17c482f",
   "metadata": {},
   "outputs": [],
   "source": [
    "predictions = model.predict(x = scaled_test_samples, \n",
    "                            batch_size = 10, \n",
    "                            verbose = 0)"
   ]
  },
  {
   "cell_type": "code",
   "execution_count": 30,
   "id": "43bd4253",
   "metadata": {},
   "outputs": [
    {
     "data": {
      "text/plain": [
       "array([[0.9658047 , 0.03419532],\n",
       "       [0.96454585, 0.03545416],\n",
       "       [0.9639523 , 0.03604766],\n",
       "       [0.61088043, 0.3891195 ],\n",
       "       [0.03415129, 0.9658486 ],\n",
       "       [0.02049256, 0.9795074 ],\n",
       "       [0.96540505, 0.03459502],\n",
       "       [0.2046512 , 0.7953489 ],\n",
       "       [0.0166771 , 0.9833229 ],\n",
       "       [0.08335596, 0.9166441 ]], dtype=float32)"
      ]
     },
     "execution_count": 30,
     "metadata": {},
     "output_type": "execute_result"
    }
   ],
   "source": [
    "predictions[:10,]"
   ]
  },
  {
   "cell_type": "code",
   "execution_count": 31,
   "id": "736326cf",
   "metadata": {},
   "outputs": [],
   "source": [
    "rounded_predictions = np.argmax(predictions, axis = -1)"
   ]
  },
  {
   "cell_type": "code",
   "execution_count": 33,
   "id": "b13d3743",
   "metadata": {},
   "outputs": [
    {
     "data": {
      "text/plain": [
       "array([0, 0, 0, 0, 1, 1, 0, 1, 1, 1], dtype=int64)"
      ]
     },
     "execution_count": 33,
     "metadata": {},
     "output_type": "execute_result"
    }
   ],
   "source": [
    "rounded_predictions[:10]"
   ]
  },
  {
   "cell_type": "markdown",
   "id": "e45d09d3",
   "metadata": {},
   "source": [
    "### Confusion Matrix"
   ]
  },
  {
   "cell_type": "code",
   "execution_count": 38,
   "id": "8ee5b267",
   "metadata": {},
   "outputs": [],
   "source": [
    "%matplotlib inline\n",
    "from sklearn.metrics import confusion_matrix, plot_confusion_matrix, ConfusionMatrixDisplay\n",
    "import itertools\n",
    "import matplotlib.pyplot as plt"
   ]
  },
  {
   "cell_type": "code",
   "execution_count": 39,
   "id": "add23ccd",
   "metadata": {},
   "outputs": [],
   "source": [
    "cm = confusion_matrix(y_true = test_labels, y_pred = rounded_predictions)"
   ]
  },
  {
   "cell_type": "code",
   "execution_count": 51,
   "id": "0b6fab8a",
   "metadata": {},
   "outputs": [
    {
     "data": {
      "image/png": "[encoded data removed]",
      "text/plain": [
       "<Figure size 432x288 with 2 Axes>"
      ]
     },
     "metadata": {
      "needs_background": "light"
     },
     "output_type": "display_data"
    }
   ],
   "source": [
    "\n",
    "disp = ConfusionMatrixDisplay(confusion_matrix = cm,\n",
    "                              display_labels = ['no_side_effects',\n",
    "                                                'had_side_effects'])\n",
    "disp.plot()\n",
    "\n",
    "plt.show()"
   ]
  },
  {
   "cell_type": "markdown",
   "id": "e5738e8f",
   "metadata": {},
   "source": [
    "### Saving the model\n",
    "###    1. model.save()"
   ]
  },
  {
   "cell_type": "code",
   "execution_count": 52,
   "id": "fb0258ce",
   "metadata": {},
   "outputs": [],
   "source": [
    "# Checks first to see if file exists already.\n",
    "# If not, the model is saved to disk.\n",
    "import os.path\n",
    "if os.path.isfile('models/medical_trial.model.h5') is False:\n",
    "    model.save('models/medical_trial.model.h5')"
   ]
  },
  {
   "cell_type": "markdown",
   "id": "a7014817",
   "metadata": {},
   "source": [
    "This save function saves:\n",
    " - The architecture of the model, allowing to re-create the model.\n",
    " - The weights of the model.\n",
    " - The training configuration (loss, optimizer).\n",
    " - The state of the optimizer, allowing to resume training exaclty where you left off."
   ]
  },
  {
   "cell_type": "markdown",
   "id": "36f96fe7",
   "metadata": {},
   "source": [
    "### Loading a saved model"
   ]
  },
  {
   "cell_type": "code",
   "execution_count": 53,
   "id": "dc3942ca",
   "metadata": {},
   "outputs": [],
   "source": [
    "from tensorflow.keras.models import load_model\n",
    "new_model = load_model('models/medical_trial.model.h5')"
   ]
  },
  {
   "cell_type": "code",
   "execution_count": 54,
   "id": "4a7328f2",
   "metadata": {},
   "outputs": [
    {
     "name": "stdout",
     "output_type": "stream",
     "text": [
      "Model: \"sequential\"\n",
      "_________________________________________________________________\n",
      " Layer (type)                Output Shape              Param #   \n",
      "=================================================================\n",
      " dense (Dense)               (None, 16)                32        \n",
      "                                                                 \n",
      " dense_1 (Dense)             (None, 32)                544       \n",
      "                                                                 \n",
      " dense_2 (Dense)             (None, 2)                 66        \n",
      "                                                                 \n",
      "=================================================================\n",
      "Total params: 642\n",
      "Trainable params: 642\n",
      "Non-trainable params: 0\n",
      "_________________________________________________________________\n"
     ]
    }
   ],
   "source": [
    "new_model.summary()"
   ]
  },
  {
   "cell_type": "code",
   "execution_count": 55,
   "id": "ff0fd5cf",
   "metadata": {},
   "outputs": [
    {
     "data": {
      "text/plain": [
       "<keras.optimizer_v2.adam.Adam at 0x239cac335b0>"
      ]
     },
     "execution_count": 55,
     "metadata": {},
     "output_type": "execute_result"
    }
   ],
   "source": [
    "new_model.optimizer"
   ]
  },
  {
   "cell_type": "markdown",
   "id": "9031d817",
   "metadata": {},
   "source": [
    "###    2. model.to_json()"
   ]
  },
  {
   "cell_type": "markdown",
   "id": "0fc7c785",
   "metadata": {},
   "source": [
    "If you only need to save the architecture of a model, and not its weights or its training configuration, you can use the following function to save the architecture only."
   ]
  },
  {
   "cell_type": "code",
   "execution_count": 57,
   "id": "bb1daf74",
   "metadata": {},
   "outputs": [],
   "source": [
    "# save as JSON\n",
    "json_string = model.to_json()\n",
    "\n",
    "# save as YAML\n",
    "# yaml_string = model.to_yaml()"
   ]
  },
  {
   "cell_type": "code",
   "execution_count": 58,
   "id": "a23c03f5",
   "metadata": {},
   "outputs": [
    {
     "data": {
      "text/plain": [
       "'{\"class_name\": \"Sequential\", \"config\": {\"name\": \"sequential\", \"layers\": [{\"class_name\": \"InputLayer\", \"config\": {\"batch_input_shape\": [null, 1], \"dtype\": \"float32\", \"sparse\": false, \"ragged\": false, \"name\": \"dense_input\"}}, {\"class_name\": \"Dense\", \"config\": {\"name\": \"dense\", \"trainable\": true, \"batch_input_shape\": [null, 1], \"dtype\": \"float32\", \"units\": 16, \"activation\": \"relu\", \"use_bias\": true, \"kernel_initializer\": {\"class_name\": \"GlorotUniform\", \"config\": {\"seed\": null}}, \"bias_initializer\": {\"class_name\": \"Zeros\", \"config\": {}}, \"kernel_regularizer\": null, \"bias_regularizer\": null, \"activity_regularizer\": null, \"kernel_constraint\": null, \"bias_constraint\": null}}, {\"class_name\": \"Dense\", \"config\": {\"name\": \"dense_1\", \"trainable\": true, \"dtype\": \"float32\", \"units\": 32, \"activation\": \"relu\", \"use_bias\": true, \"kernel_initializer\": {\"class_name\": \"GlorotUniform\", \"config\": {\"seed\": null}}, \"bias_initializer\": {\"class_name\": \"Zeros\", \"config\": {}}, \"kernel_regularizer\": null, \"bias_regularizer\": null, \"activity_regularizer\": null, \"kernel_constraint\": null, \"bias_constraint\": null}}, {\"class_name\": \"Dense\", \"config\": {\"name\": \"dense_2\", \"trainable\": true, \"dtype\": \"float32\", \"units\": 2, \"activation\": \"softmax\", \"use_bias\": true, \"kernel_initializer\": {\"class_name\": \"GlorotUniform\", \"config\": {\"seed\": null}}, \"bias_initializer\": {\"class_name\": \"Zeros\", \"config\": {}}, \"kernel_regularizer\": null, \"bias_regularizer\": null, \"activity_regularizer\": null, \"kernel_constraint\": null, \"bias_constraint\": null}}]}, \"keras_version\": \"2.7.0\", \"backend\": \"tensorflow\"}'"
      ]
     },
     "execution_count": 58,
     "metadata": {},
     "output_type": "execute_result"
    }
   ],
   "source": [
    "json_string"
   ]
  },
  {
   "cell_type": "code",
   "execution_count": 60,
   "id": "81b58ff6",
   "metadata": {},
   "outputs": [],
   "source": [
    "# nodel reconstruction from JSON:\n",
    "from tensorflow.keras.models import model_from_json\n",
    "\n",
    "model_architecture = model_from_json(json_string)\n",
    "\n",
    "# nodel reconstrunciton from YAML\n",
    "# model = model_from_yaml(yaml_string)"
   ]
  },
  {
   "cell_type": "code",
   "execution_count": 61,
   "id": "30a09127",
   "metadata": {},
   "outputs": [
    {
     "name": "stdout",
     "output_type": "stream",
     "text": [
      "Model: \"sequential\"\n",
      "_________________________________________________________________\n",
      " Layer (type)                Output Shape              Param #   \n",
      "=================================================================\n",
      " dense (Dense)               (None, 16)                32        \n",
      "                                                                 \n",
      " dense_1 (Dense)             (None, 32)                544       \n",
      "                                                                 \n",
      " dense_2 (Dense)             (None, 2)                 66        \n",
      "                                                                 \n",
      "=================================================================\n",
      "Total params: 642\n",
      "Trainable params: 642\n",
      "Non-trainable params: 0\n",
      "_________________________________________________________________\n"
     ]
    }
   ],
   "source": [
    "model_architecture.summary()"
   ]
  },
  {
   "cell_type": "markdown",
   "id": "d9757da0",
   "metadata": {},
   "source": [
    "###    3.model.save_weights()"
   ]
  },
  {
   "cell_type": "markdown",
   "id": "426fe95b",
   "metadata": {},
   "source": [
    "If you only need to save the weights of a model, you can use the following funciton."
   ]
  },
  {
   "cell_type": "code",
   "execution_count": 62,
   "id": "f8573052",
   "metadata": {},
   "outputs": [],
   "source": [
    "# Checks first to see if file exists already.\n",
    "# If not, the model is saved to disk.\n",
    "import os.path\n",
    "if os.path.isfile('models/my_model_weights.h5') is False:\n",
    "    model.save_weights('models/my_model_weights.h5')"
   ]
  },
  {
   "cell_type": "code",
   "execution_count": 63,
   "id": "d5cef2e4",
   "metadata": {},
   "outputs": [],
   "source": [
    "model2 = Sequential([\n",
    "            Dense(units=16, input_shape = (1,), activation = 'relu'),\n",
    "            Dense(units=32, activation = 'relu'),\n",
    "            Dense(units=2, activation = 'softmax'),])"
   ]
  },
  {
   "cell_type": "code",
   "execution_count": 64,
   "id": "adf9fc68",
   "metadata": {},
   "outputs": [],
   "source": [
    "model2.load_weights('models/my_model_weights.h5')"
   ]
  },
  {
   "cell_type": "code",
   "execution_count": 65,
   "id": "a0f8a233",
   "metadata": {},
   "outputs": [
    {
     "data": {
      "text/plain": [
       "[array([[ 0.5688508 ,  0.45852476, -0.30137765, -0.18403837,  0.69981056,\n",
       "         -0.02368093,  0.44691607,  0.33439428, -0.10728469, -0.36941245,\n",
       "          0.3931064 , -0.0090971 ,  0.56789184, -0.3075725 , -0.3445556 ,\n",
       "         -0.28646365]], dtype=float32),\n",
       " array([-0.16087231, -0.16785799,  0.        ,  0.        ,  0.00112   ,\n",
       "         0.        , -0.16598879, -0.13661431,  0.        ,  0.        ,\n",
       "        -0.13939442,  0.        , -0.19186896,  0.        ,  0.        ,\n",
       "         0.        ], dtype=float32),\n",
       " array([[-0.33989275,  0.177096  ,  0.25237936, -0.10648417,  0.22789483,\n",
       "          0.4371213 ,  0.07137917,  0.43031147, -0.11528274, -0.21915755,\n",
       "         -0.21440734,  0.38516572,  0.28541276,  0.12862638,  0.5223327 ,\n",
       "          0.14496477, -0.31991085,  0.17197335,  0.12109   , -0.28999898,\n",
       "         -0.27922946,  0.14410335, -0.19439523, -0.3309156 ,  0.3315342 ,\n",
       "          0.05634708,  0.01623138, -0.13468254,  0.1475623 ,  0.3344063 ,\n",
       "          0.1961385 ,  0.40159595],\n",
       "        [-0.17006953,  0.4385913 ,  0.0714625 , -0.05138543, -0.07826853,\n",
       "          0.06999288, -0.6606675 ,  0.51304126,  0.13820006, -0.02077091,\n",
       "         -0.09313535,  0.2984514 ,  0.27426174,  0.42506778,  0.05311917,\n",
       "          0.5679117 , -0.37142733, -0.1979533 ,  0.38795418, -0.6943701 ,\n",
       "         -0.23398304,  0.27432778, -0.6920168 , -0.49409893,  0.30182067,\n",
       "         -0.34657657, -0.5737915 , -0.25467646,  0.1947752 ,  0.2464947 ,\n",
       "         -0.26204556,  0.5789968 ],\n",
       "        [-0.18828936,  0.11160284,  0.18036261, -0.19100842, -0.00530368,\n",
       "         -0.119115  , -0.18852732,  0.16961512, -0.31903544,  0.12515718,\n",
       "         -0.0673241 ,  0.09422711, -0.3409122 , -0.25062782,  0.13204187,\n",
       "         -0.15562327,  0.06523582, -0.10956579,  0.21257547,  0.12872145,\n",
       "         -0.19830985,  0.22511551, -0.31325746,  0.2930188 , -0.2764685 ,\n",
       "         -0.24249138, -0.11825824, -0.02165025,  0.31477144,  0.02697802,\n",
       "          0.24657455,  0.13316566],\n",
       "        [-0.19749835, -0.0443626 ,  0.04560971, -0.06908989,  0.28112176,\n",
       "         -0.25567314, -0.3418879 , -0.23652726, -0.3000623 ,  0.12838984,\n",
       "          0.3244376 , -0.15409933, -0.11848246, -0.19987132,  0.03988853,\n",
       "         -0.06542134,  0.3105723 , -0.34075338, -0.22068149,  0.33919302,\n",
       "         -0.04410633,  0.21185198,  0.04076713,  0.14448774,  0.09977683,\n",
       "         -0.15922338,  0.24535373, -0.0124335 ,  0.07153341, -0.26425213,\n",
       "          0.18003306, -0.02730432],\n",
       "        [-0.26217473,  0.46324944,  0.47472176, -0.21133238, -0.23601341,\n",
       "          0.3174237 ,  0.05855949,  0.42540035,  0.21527398, -0.30983058,\n",
       "         -0.11618258, -0.0514188 , -0.18556495,  0.00993368,  0.01371225,\n",
       "          0.36789304,  0.04180181, -0.31390896,  0.50433236,  0.11830413,\n",
       "          0.22061692, -0.27547416,  0.1919759 ,  0.12209696, -0.28915495,\n",
       "         -0.21059743,  0.21803063, -0.10974541, -0.07664463,  0.22588669,\n",
       "         -0.33603883,  0.34120217],\n",
       "        [ 0.05938861, -0.29613066,  0.18840131, -0.08551645, -0.20467217,\n",
       "         -0.02240056, -0.02093956,  0.15094301, -0.0491353 ,  0.01258901,\n",
       "         -0.16212417, -0.28487772,  0.34277096, -0.22955509,  0.22724137,\n",
       "         -0.07816806,  0.04707026,  0.17827383,  0.19256577,  0.15713355,\n",
       "          0.16240343,  0.00589171,  0.26955208, -0.08934212,  0.34471437,\n",
       "          0.28457204,  0.12306416, -0.12332588,  0.1432251 , -0.14456394,\n",
       "         -0.05469221,  0.10739928],\n",
       "        [-0.17043722,  0.07765304, -0.067592  ,  0.04468349,  0.28166705,\n",
       "          0.3172114 , -0.0726505 ,  0.05138998,  0.57138294,  0.2261379 ,\n",
       "         -0.53006536,  0.04665359,  0.08222587,  0.4226431 ,  0.4809188 ,\n",
       "          0.4264762 , -0.29849437,  0.24171576,  0.6142684 , -0.0180898 ,\n",
       "         -0.00893599, -0.32519352, -0.00553525, -0.50762194,  0.16415372,\n",
       "          0.22579452, -0.2050681 ,  0.05183022, -0.12256935,  0.26346985,\n",
       "          0.22641744, -0.02083904],\n",
       "        [ 0.23060128,  0.44374755,  0.40950713,  0.05963367, -0.12985705,\n",
       "          0.13657908, -0.38577822,  0.5480039 ,  0.00863849, -0.14173175,\n",
       "         -0.04350623,  0.2690205 ,  0.11534912,  0.5023272 ,  0.3802491 ,\n",
       "          0.5884683 , -0.5731511 ,  0.15047559,  0.6339571 , -0.5958071 ,\n",
       "          0.0035703 ,  0.14359719, -0.6137584 , -0.35275662,  0.06064013,\n",
       "          0.14855573, -0.3140047 , -0.34652582, -0.16079158,  0.15396921,\n",
       "          0.02171653,  0.46251708],\n",
       "        [ 0.2478253 ,  0.0850831 ,  0.28798226, -0.25561827, -0.00642064,\n",
       "         -0.34454003, -0.34057704, -0.13851655,  0.11514905,  0.2557095 ,\n",
       "          0.02935249, -0.12434989,  0.10371715,  0.06528908, -0.00817591,\n",
       "         -0.0830878 , -0.29878247,  0.26573375,  0.039915  , -0.3280462 ,\n",
       "          0.08646047, -0.32246822,  0.09904906, -0.09361482,  0.29482505,\n",
       "         -0.25952882,  0.02905047,  0.16645595,  0.0720771 ,  0.05332917,\n",
       "         -0.22666474, -0.01982403],\n",
       "        [-0.3470257 , -0.03558078, -0.10445996, -0.15433475,  0.01645935,\n",
       "          0.20528886, -0.07297692,  0.19470295, -0.30538476, -0.09995446,\n",
       "         -0.34143946,  0.12816957, -0.17975664,  0.2734864 ,  0.22902074,\n",
       "         -0.16043147,  0.10275748, -0.3077016 , -0.05983201, -0.32796368,\n",
       "         -0.2763459 ,  0.21874997, -0.2458343 , -0.11389233,  0.25124   ,\n",
       "         -0.11602774,  0.29247192, -0.22738925,  0.08632502, -0.12113374,\n",
       "          0.2050623 ,  0.06297362],\n",
       "        [ 0.1590133 ,  0.36554953,  0.08887406, -0.05719623, -0.15340936,\n",
       "          0.0098451 , -0.43573722,  0.12303165,  0.520929  , -0.17876711,\n",
       "         -0.3939573 ,  0.38183   , -0.18624586,  0.1577013 ,  0.21360008,\n",
       "          0.60510945, -0.3027874 , -0.3019892 ,  0.11505706, -0.05107742,\n",
       "         -0.35991973, -0.13265738, -0.6234953 , -0.03091399, -0.3263766 ,\n",
       "         -0.28924236, -0.2555573 , -0.04417756, -0.29954126,  0.5093965 ,\n",
       "         -0.19619894,  0.41332   ],\n",
       "        [-0.03727415, -0.03562841, -0.00624162,  0.3493109 ,  0.25154808,\n",
       "         -0.08497319, -0.01866084,  0.25865582, -0.28189272, -0.31828785,\n",
       "         -0.2911483 ,  0.28500792, -0.3496398 ,  0.07456571,  0.07227948,\n",
       "          0.20972618,  0.10923409,  0.14189926, -0.1683995 , -0.00072485,\n",
       "          0.26010343, -0.22594681,  0.30556193,  0.14094487, -0.16656417,\n",
       "         -0.24154696, -0.07936159, -0.14232089,  0.19581148, -0.2910068 ,\n",
       "          0.19386521,  0.30281457],\n",
       "        [-0.03866932,  0.15444826,  0.22479485, -0.12948203,  0.1734879 ,\n",
       "          0.4239505 , -0.70437014,  0.16517806,  0.38742235, -0.08482879,\n",
       "         -0.52074915,  0.26937598, -0.24260484,  0.5767422 ,  0.4151533 ,\n",
       "          0.04740151, -0.32687935,  0.27513888,  0.1430527 , -0.45064524,\n",
       "          0.18155637, -0.1464034 , -0.55107206, -0.58435655, -0.26626775,\n",
       "          0.03192919,  0.00461841,  0.2897712 , -0.09211624, -0.05493485,\n",
       "          0.3408444 , -0.05668129],\n",
       "        [-0.32539272, -0.1225353 ,  0.22163281, -0.14313036,  0.28078505,\n",
       "          0.23665419, -0.17223883, -0.18151122, -0.3445794 , -0.04935548,\n",
       "         -0.16323912,  0.26447096,  0.09930074, -0.14557782,  0.10872191,\n",
       "         -0.0792408 ,  0.3279926 , -0.12276593, -0.24171385,  0.15494463,\n",
       "         -0.10651831,  0.02172402,  0.230118  ,  0.22179255,  0.26713774,\n",
       "          0.18676558, -0.33151057,  0.24141738,  0.13882437,  0.23746291,\n",
       "         -0.17737055, -0.23059064],\n",
       "        [-0.11054571,  0.30436698, -0.11947013,  0.15270433, -0.00098321,\n",
       "          0.19070622,  0.13624349, -0.20718952,  0.15222833, -0.21161655,\n",
       "          0.20148328, -0.2399726 ,  0.173071  ,  0.03064337,  0.02289045,\n",
       "          0.26005146,  0.34250984,  0.00474474,  0.29626855, -0.12828869,\n",
       "         -0.32818234, -0.1740148 , -0.14476861, -0.10422122, -0.1675601 ,\n",
       "         -0.2904997 ,  0.22778425,  0.10912576, -0.34397298,  0.17509511,\n",
       "         -0.23524204, -0.00837651],\n",
       "        [ 0.02276555, -0.00372216,  0.22408721, -0.02233395, -0.1684811 ,\n",
       "          0.04202732,  0.26280978, -0.14484978,  0.27642712, -0.01803952,\n",
       "          0.23251137, -0.00633618, -0.19445148,  0.00628763, -0.15677549,\n",
       "          0.29876187,  0.04451641, -0.14215727,  0.10520762, -0.28595018,\n",
       "          0.02143419, -0.21106273,  0.13228512,  0.04440188,  0.14131889,\n",
       "          0.13056284,  0.29039767,  0.16444698, -0.29100382, -0.10987996,\n",
       "         -0.34933382,  0.07418975]], dtype=float32),\n",
       " array([ 0.        , -0.1501181 , -0.15113679,  0.        , -0.02283464,\n",
       "        -0.14550668,  0.2859248 , -0.16265832, -0.10524132,  0.        ,\n",
       "         0.3430189 , -0.06080859, -0.00215555, -0.07703934, -0.09261972,\n",
       "        -0.15082256,  0.29864737, -0.00226455, -0.15958144,  0.25505528,\n",
       "        -0.04600262,  0.        ,  0.3010061 ,  0.30926672, -0.00055289,\n",
       "        -0.00055578,  0.22966605, -0.00055567,  0.        , -0.12100899,\n",
       "        -0.00497035, -0.15389445], dtype=float32),\n",
       " array([[ 0.23787865,  0.28951558],\n",
       "        [-0.36808404,  0.57643056],\n",
       "        [-0.49050912,  0.45340246],\n",
       "        [ 0.32982048, -0.06739858],\n",
       "        [-0.060786  , -0.25759107],\n",
       "        [ 0.10391534,  0.630862  ],\n",
       "        [ 0.8888623 , -0.29116124],\n",
       "        [-0.11902712,  0.44594133],\n",
       "        [-0.44344953,  0.64125264],\n",
       "        [-0.09255552, -0.39813498],\n",
       "        [ 0.73865265, -0.6789424 ],\n",
       "        [-0.44345763, -0.07571465],\n",
       "        [ 0.13123105, -0.3165911 ],\n",
       "        [-0.66490996,  0.5137457 ],\n",
       "        [-0.5024114 ,  0.22840825],\n",
       "        [-0.6696693 , -0.07052901],\n",
       "        [ 0.96167964, -0.856909  ],\n",
       "        [ 0.16408841, -0.08094876],\n",
       "        [-0.43793854,  0.17440936],\n",
       "        [ 0.4859362 , -0.71442765],\n",
       "        [-0.35389614,  0.30795476],\n",
       "        [-0.07170507, -0.14140922],\n",
       "        [ 0.45849824, -0.7827515 ],\n",
       "        [ 0.95519596, -0.78571707],\n",
       "        [-0.22376432, -0.21232902],\n",
       "        [-0.07178759,  0.24053937],\n",
       "        [ 0.48481923, -0.35895008],\n",
       "        [-0.35534474, -0.1945398 ],\n",
       "        [-0.11231366,  0.07872459],\n",
       "        [-0.6532417 ,  0.29915896],\n",
       "        [ 0.33206537, -0.05079453],\n",
       "        [-0.50390583,  0.08664221]], dtype=float32),\n",
       " array([ 0.21370785, -0.2137079 ], dtype=float32)]"
      ]
     },
     "execution_count": 65,
     "metadata": {},
     "output_type": "execute_result"
    }
   ],
   "source": [
    "model2.get_weights()"
   ]
  },
  {
   "cell_type": "code",
   "execution_count": null,
   "id": "ca4961a4",
   "metadata": {},
   "outputs": [],
   "source": []
  }
 ],
 "metadata": {
  "kernelspec": {
   "display_name": "Python 3",
   "language": "python",
   "name": "python3"
  },
  "language_info": {
   "codemirror_mode": {
    "name": "ipython",
    "version": 3
   },
   "file_extension": ".py",
   "mimetype": "text/x-python",
   "name": "python",
   "nbconvert_exporter": "python",
   "pygments_lexer": "ipython3",
   "version": "3.8.8"
  }
 },
 "nbformat": 4,
 "nbformat_minor": 5
}
